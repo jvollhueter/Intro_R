{
 "cells": [
  {
   "cell_type": "markdown",
   "id": "50054875",
   "metadata": {},
   "source": [
    "<img src='./IMG/logo_FU.png' align='right' width='25%'></img>"
   ]
  },
  {
   "cell_type": "markdown",
   "id": "44d7a24a",
   "metadata": {},
   "source": [
    "# Introduction into R: Sample solutions"
   ]
  },
  {
   "cell_type": "markdown",
   "id": "44be49c0",
   "metadata": {},
   "source": [
    "<hr>\n",
    "\n",
    "## Day 1\n",
    "\n",
    "<hr>"
   ]
  },
  {
   "cell_type": "markdown",
   "id": "875edd7e",
   "metadata": {},
   "source": [
    "<hr>\n",
    "\n",
    "### 1.1)\n",
    "**Try to import data in R yourself. Download Eisbaeren.txt from blackboard, have a look at the table, make necessary corrections and try to load it into R.**"
   ]
  },
  {
   "cell_type": "markdown",
   "id": "2e4e00a1",
   "metadata": {},
   "source": [
    "<img src='./IMG/d1_eisbaeren.jpg' align='center' width='50%'></img>"
   ]
  },
  {
   "cell_type": "markdown",
   "id": "1606846f",
   "metadata": {},
   "source": [
    "Problems with file:\n",
    "- Separator (whitespace) between Schulter Höhe\n",
    "- German umlaut\n",
    "- Trailing whitespaces\n",
    "- Missing values\n",
    "\n",
    "Below you can see how the corrected script could look like:"
   ]
  },
  {
   "cell_type": "markdown",
   "id": "0b0ce6a5",
   "metadata": {},
   "source": [
    "<img src='./IMG/d1_eisbaeren_mod.jpg' align='center' width='50%'></img>"
   ]
  },
  {
   "cell_type": "markdown",
   "id": "87961852",
   "metadata": {},
   "source": [
    "To import this file:"
   ]
  },
  {
   "cell_type": "code",
   "execution_count": 12,
   "id": "dfd87c98",
   "metadata": {},
   "outputs": [],
   "source": [
    "eisbaeren <- read.table(\"day_01/Eisbaeren_mod.txt\",\n",
    "                        header=T,\n",
    "                        na.string=\"NA\")"
   ]
  },
  {
   "cell_type": "markdown",
   "id": "a2f51f42",
   "metadata": {},
   "source": [
    "To see the content of the dataframe \"eisbaeren\" run the next cell:"
   ]
  },
  {
   "cell_type": "code",
   "execution_count": 16,
   "id": "8964563c",
   "metadata": {},
   "outputs": [
    {
     "data": {
      "text/html": [
       "<table class=\"dataframe\">\n",
       "<caption>A data.frame: 12 × 2</caption>\n",
       "<thead>\n",
       "\t<tr><th scope=col>Geschlecht</th><th scope=col>Schulter_Hoehe</th></tr>\n",
       "\t<tr><th scope=col>&lt;chr&gt;</th><th scope=col>&lt;dbl&gt;</th></tr>\n",
       "</thead>\n",
       "<tbody>\n",
       "\t<tr><td>m </td><td>1.50</td></tr>\n",
       "\t<tr><td>m </td><td>  NA</td></tr>\n",
       "\t<tr><td>m </td><td>1.45</td></tr>\n",
       "\t<tr><td>w </td><td>1.30</td></tr>\n",
       "\t<tr><td>w </td><td>1.35</td></tr>\n",
       "\t<tr><td>m </td><td>1.40</td></tr>\n",
       "\t<tr><td>m </td><td>1.60</td></tr>\n",
       "\t<tr><td>w </td><td>1.25</td></tr>\n",
       "\t<tr><td>w </td><td>1.40</td></tr>\n",
       "\t<tr><td>NA</td><td>1.55</td></tr>\n",
       "\t<tr><td>w </td><td>1.30</td></tr>\n",
       "\t<tr><td>w </td><td>1.35</td></tr>\n",
       "</tbody>\n",
       "</table>\n"
      ],
      "text/latex": [
       "A data.frame: 12 × 2\n",
       "\\begin{tabular}{ll}\n",
       " Geschlecht & Schulter\\_Hoehe\\\\\n",
       " <chr> & <dbl>\\\\\n",
       "\\hline\n",
       "\t m  & 1.50\\\\\n",
       "\t m  &   NA\\\\\n",
       "\t m  & 1.45\\\\\n",
       "\t w  & 1.30\\\\\n",
       "\t w  & 1.35\\\\\n",
       "\t m  & 1.40\\\\\n",
       "\t m  & 1.60\\\\\n",
       "\t w  & 1.25\\\\\n",
       "\t w  & 1.40\\\\\n",
       "\t NA & 1.55\\\\\n",
       "\t w  & 1.30\\\\\n",
       "\t w  & 1.35\\\\\n",
       "\\end{tabular}\n"
      ],
      "text/markdown": [
       "\n",
       "A data.frame: 12 × 2\n",
       "\n",
       "| Geschlecht &lt;chr&gt; | Schulter_Hoehe &lt;dbl&gt; |\n",
       "|---|---|\n",
       "| m  | 1.50 |\n",
       "| m  |   NA |\n",
       "| m  | 1.45 |\n",
       "| w  | 1.30 |\n",
       "| w  | 1.35 |\n",
       "| m  | 1.40 |\n",
       "| m  | 1.60 |\n",
       "| w  | 1.25 |\n",
       "| w  | 1.40 |\n",
       "| NA | 1.55 |\n",
       "| w  | 1.30 |\n",
       "| w  | 1.35 |\n",
       "\n"
      ],
      "text/plain": [
       "   Geschlecht Schulter_Hoehe\n",
       "1  m          1.50          \n",
       "2  m            NA          \n",
       "3  m          1.45          \n",
       "4  w          1.30          \n",
       "5  w          1.35          \n",
       "6  m          1.40          \n",
       "7  m          1.60          \n",
       "8  w          1.25          \n",
       "9  w          1.40          \n",
       "10 NA         1.55          \n",
       "11 w          1.30          \n",
       "12 w          1.35          "
      ]
     },
     "metadata": {},
     "output_type": "display_data"
    }
   ],
   "source": [
    "eisbaeren"
   ]
  },
  {
   "cell_type": "markdown",
   "id": "cf3043b0",
   "metadata": {},
   "source": [
    "In the next step we remove the rows with missing values:"
   ]
  },
  {
   "cell_type": "code",
   "execution_count": 17,
   "id": "931d7beb",
   "metadata": {},
   "outputs": [],
   "source": [
    "eisbaeren <- na.omit(eisbaeren)"
   ]
  },
  {
   "cell_type": "markdown",
   "id": "f7f26919",
   "metadata": {},
   "source": [
    "<hr>\n",
    "\n",
    "### 1.2)\n",
    "**Create the respective subsets for male and female bears:**"
   ]
  },
  {
   "cell_type": "code",
   "execution_count": 18,
   "id": "d814e86c",
   "metadata": {},
   "outputs": [],
   "source": [
    "males <- eisbaeren[eisbaeren$Geschlecht==\"m\",]\n",
    "\n",
    "females <- eisbaeren[eisbaeren$Geschlecht==\"w\",]"
   ]
  },
  {
   "cell_type": "markdown",
   "id": "f0780b91",
   "metadata": {},
   "source": [
    "To see the content of the dataframe \"males\" run the next cell:"
   ]
  },
  {
   "cell_type": "code",
   "execution_count": 19,
   "id": "62ee69a7",
   "metadata": {
    "scrolled": true
   },
   "outputs": [
    {
     "data": {
      "text/html": [
       "<table class=\"dataframe\">\n",
       "<caption>A data.frame: 4 × 2</caption>\n",
       "<thead>\n",
       "\t<tr><th></th><th scope=col>Geschlecht</th><th scope=col>Schulter_Hoehe</th></tr>\n",
       "\t<tr><th></th><th scope=col>&lt;chr&gt;</th><th scope=col>&lt;dbl&gt;</th></tr>\n",
       "</thead>\n",
       "<tbody>\n",
       "\t<tr><th scope=row>1</th><td>m</td><td>1.50</td></tr>\n",
       "\t<tr><th scope=row>3</th><td>m</td><td>1.45</td></tr>\n",
       "\t<tr><th scope=row>6</th><td>m</td><td>1.40</td></tr>\n",
       "\t<tr><th scope=row>7</th><td>m</td><td>1.60</td></tr>\n",
       "</tbody>\n",
       "</table>\n"
      ],
      "text/latex": [
       "A data.frame: 4 × 2\n",
       "\\begin{tabular}{r|ll}\n",
       "  & Geschlecht & Schulter\\_Hoehe\\\\\n",
       "  & <chr> & <dbl>\\\\\n",
       "\\hline\n",
       "\t1 & m & 1.50\\\\\n",
       "\t3 & m & 1.45\\\\\n",
       "\t6 & m & 1.40\\\\\n",
       "\t7 & m & 1.60\\\\\n",
       "\\end{tabular}\n"
      ],
      "text/markdown": [
       "\n",
       "A data.frame: 4 × 2\n",
       "\n",
       "| <!--/--> | Geschlecht &lt;chr&gt; | Schulter_Hoehe &lt;dbl&gt; |\n",
       "|---|---|---|\n",
       "| 1 | m | 1.50 |\n",
       "| 3 | m | 1.45 |\n",
       "| 6 | m | 1.40 |\n",
       "| 7 | m | 1.60 |\n",
       "\n"
      ],
      "text/plain": [
       "  Geschlecht Schulter_Hoehe\n",
       "1 m          1.50          \n",
       "3 m          1.45          \n",
       "6 m          1.40          \n",
       "7 m          1.60          "
      ]
     },
     "metadata": {},
     "output_type": "display_data"
    }
   ],
   "source": [
    "males"
   ]
  },
  {
   "cell_type": "markdown",
   "id": "b9b808bf",
   "metadata": {},
   "source": [
    "And the dataframe \"females\" looks like:"
   ]
  },
  {
   "cell_type": "code",
   "execution_count": 20,
   "id": "023d6465",
   "metadata": {},
   "outputs": [
    {
     "data": {
      "text/html": [
       "<table class=\"dataframe\">\n",
       "<caption>A data.frame: 6 × 2</caption>\n",
       "<thead>\n",
       "\t<tr><th></th><th scope=col>Geschlecht</th><th scope=col>Schulter_Hoehe</th></tr>\n",
       "\t<tr><th></th><th scope=col>&lt;chr&gt;</th><th scope=col>&lt;dbl&gt;</th></tr>\n",
       "</thead>\n",
       "<tbody>\n",
       "\t<tr><th scope=row>4</th><td>w</td><td>1.30</td></tr>\n",
       "\t<tr><th scope=row>5</th><td>w</td><td>1.35</td></tr>\n",
       "\t<tr><th scope=row>8</th><td>w</td><td>1.25</td></tr>\n",
       "\t<tr><th scope=row>9</th><td>w</td><td>1.40</td></tr>\n",
       "\t<tr><th scope=row>11</th><td>w</td><td>1.30</td></tr>\n",
       "\t<tr><th scope=row>12</th><td>w</td><td>1.35</td></tr>\n",
       "</tbody>\n",
       "</table>\n"
      ],
      "text/latex": [
       "A data.frame: 6 × 2\n",
       "\\begin{tabular}{r|ll}\n",
       "  & Geschlecht & Schulter\\_Hoehe\\\\\n",
       "  & <chr> & <dbl>\\\\\n",
       "\\hline\n",
       "\t4 & w & 1.30\\\\\n",
       "\t5 & w & 1.35\\\\\n",
       "\t8 & w & 1.25\\\\\n",
       "\t9 & w & 1.40\\\\\n",
       "\t11 & w & 1.30\\\\\n",
       "\t12 & w & 1.35\\\\\n",
       "\\end{tabular}\n"
      ],
      "text/markdown": [
       "\n",
       "A data.frame: 6 × 2\n",
       "\n",
       "| <!--/--> | Geschlecht &lt;chr&gt; | Schulter_Hoehe &lt;dbl&gt; |\n",
       "|---|---|---|\n",
       "| 4 | w | 1.30 |\n",
       "| 5 | w | 1.35 |\n",
       "| 8 | w | 1.25 |\n",
       "| 9 | w | 1.40 |\n",
       "| 11 | w | 1.30 |\n",
       "| 12 | w | 1.35 |\n",
       "\n"
      ],
      "text/plain": [
       "   Geschlecht Schulter_Hoehe\n",
       "4  w          1.30          \n",
       "5  w          1.35          \n",
       "8  w          1.25          \n",
       "9  w          1.40          \n",
       "11 w          1.30          \n",
       "12 w          1.35          "
      ]
     },
     "metadata": {},
     "output_type": "display_data"
    }
   ],
   "source": [
    "females"
   ]
  },
  {
   "cell_type": "markdown",
   "id": "d3b62b3a",
   "metadata": {},
   "source": [
    "<hr>\n",
    "\n",
    "### 1.3)\n",
    "**Create subsets for male bears > 1.50m and female bears <= 1.30m:**"
   ]
  },
  {
   "cell_type": "code",
   "execution_count": 27,
   "id": "fbfb5596",
   "metadata": {},
   "outputs": [],
   "source": [
    "bigmales<-eisbaeren[eisbaeren$Geschlecht==\"m\" & eisbaeren$Schulter_Hoehe>1.5,]\n",
    "\n",
    "smallfemales<-eisbaeren[eisbaeren$Geschlecht==\"w\" & eisbaeren$Schulter_Hoehe<=1.3,]"
   ]
  },
  {
   "cell_type": "markdown",
   "id": "a75d61c8",
   "metadata": {},
   "source": [
    "Result for male bears > 1.5m:"
   ]
  },
  {
   "cell_type": "code",
   "execution_count": 28,
   "id": "312299ab",
   "metadata": {},
   "outputs": [
    {
     "data": {
      "text/html": [
       "<table class=\"dataframe\">\n",
       "<caption>A data.frame: 1 × 2</caption>\n",
       "<thead>\n",
       "\t<tr><th></th><th scope=col>Geschlecht</th><th scope=col>Schulter_Hoehe</th></tr>\n",
       "\t<tr><th></th><th scope=col>&lt;chr&gt;</th><th scope=col>&lt;dbl&gt;</th></tr>\n",
       "</thead>\n",
       "<tbody>\n",
       "\t<tr><th scope=row>7</th><td>m</td><td>1.6</td></tr>\n",
       "</tbody>\n",
       "</table>\n"
      ],
      "text/latex": [
       "A data.frame: 1 × 2\n",
       "\\begin{tabular}{r|ll}\n",
       "  & Geschlecht & Schulter\\_Hoehe\\\\\n",
       "  & <chr> & <dbl>\\\\\n",
       "\\hline\n",
       "\t7 & m & 1.6\\\\\n",
       "\\end{tabular}\n"
      ],
      "text/markdown": [
       "\n",
       "A data.frame: 1 × 2\n",
       "\n",
       "| <!--/--> | Geschlecht &lt;chr&gt; | Schulter_Hoehe &lt;dbl&gt; |\n",
       "|---|---|---|\n",
       "| 7 | m | 1.6 |\n",
       "\n"
      ],
      "text/plain": [
       "  Geschlecht Schulter_Hoehe\n",
       "7 m          1.6           "
      ]
     },
     "metadata": {},
     "output_type": "display_data"
    }
   ],
   "source": [
    "bigmales"
   ]
  },
  {
   "cell_type": "markdown",
   "id": "a0755db6",
   "metadata": {},
   "source": [
    "Result for female bears < 1.3m:"
   ]
  },
  {
   "cell_type": "code",
   "execution_count": 29,
   "id": "24aac0e4",
   "metadata": {
    "scrolled": false
   },
   "outputs": [
    {
     "data": {
      "text/html": [
       "<table class=\"dataframe\">\n",
       "<caption>A data.frame: 3 × 2</caption>\n",
       "<thead>\n",
       "\t<tr><th></th><th scope=col>Geschlecht</th><th scope=col>Schulter_Hoehe</th></tr>\n",
       "\t<tr><th></th><th scope=col>&lt;chr&gt;</th><th scope=col>&lt;dbl&gt;</th></tr>\n",
       "</thead>\n",
       "<tbody>\n",
       "\t<tr><th scope=row>4</th><td>w</td><td>1.30</td></tr>\n",
       "\t<tr><th scope=row>8</th><td>w</td><td>1.25</td></tr>\n",
       "\t<tr><th scope=row>11</th><td>w</td><td>1.30</td></tr>\n",
       "</tbody>\n",
       "</table>\n"
      ],
      "text/latex": [
       "A data.frame: 3 × 2\n",
       "\\begin{tabular}{r|ll}\n",
       "  & Geschlecht & Schulter\\_Hoehe\\\\\n",
       "  & <chr> & <dbl>\\\\\n",
       "\\hline\n",
       "\t4 & w & 1.30\\\\\n",
       "\t8 & w & 1.25\\\\\n",
       "\t11 & w & 1.30\\\\\n",
       "\\end{tabular}\n"
      ],
      "text/markdown": [
       "\n",
       "A data.frame: 3 × 2\n",
       "\n",
       "| <!--/--> | Geschlecht &lt;chr&gt; | Schulter_Hoehe &lt;dbl&gt; |\n",
       "|---|---|---|\n",
       "| 4 | w | 1.30 |\n",
       "| 8 | w | 1.25 |\n",
       "| 11 | w | 1.30 |\n",
       "\n"
      ],
      "text/plain": [
       "   Geschlecht Schulter_Hoehe\n",
       "4  w          1.30          \n",
       "8  w          1.25          \n",
       "11 w          1.30          "
      ]
     },
     "metadata": {},
     "output_type": "display_data"
    }
   ],
   "source": [
    "smallfemales"
   ]
  },
  {
   "cell_type": "markdown",
   "id": "416713c8",
   "metadata": {},
   "source": [
    "So we can say that there are..."
   ]
  },
  {
   "cell_type": "code",
   "execution_count": 37,
   "id": "7d8a0fd8",
   "metadata": {
    "scrolled": true
   },
   "outputs": [
    {
     "name": "stdout",
     "output_type": "stream",
     "text": [
      "[1] \"... 3 female bears smaller than 1.3m\"\n"
     ]
    }
   ],
   "source": [
    "print(paste(\"...\", nrow(smallfemales), \"female bears smaller than 1.3m\"))"
   ]
  },
  {
   "cell_type": "markdown",
   "id": "11d5d532",
   "metadata": {},
   "source": [
    "<hr>\n",
    "\n",
    "### 1.4)\n",
    "**Extract the first 4 rows.**"
   ]
  },
  {
   "cell_type": "code",
   "execution_count": 39,
   "id": "5da8a8c2",
   "metadata": {},
   "outputs": [
    {
     "data": {
      "text/html": [
       "<table class=\"dataframe\">\n",
       "<caption>A data.frame: 4 × 2</caption>\n",
       "<thead>\n",
       "\t<tr><th></th><th scope=col>Geschlecht</th><th scope=col>Schulter_Hoehe</th></tr>\n",
       "\t<tr><th></th><th scope=col>&lt;chr&gt;</th><th scope=col>&lt;dbl&gt;</th></tr>\n",
       "</thead>\n",
       "<tbody>\n",
       "\t<tr><th scope=row>1</th><td>m</td><td>1.50</td></tr>\n",
       "\t<tr><th scope=row>3</th><td>m</td><td>1.45</td></tr>\n",
       "\t<tr><th scope=row>4</th><td>w</td><td>1.30</td></tr>\n",
       "\t<tr><th scope=row>5</th><td>w</td><td>1.35</td></tr>\n",
       "</tbody>\n",
       "</table>\n"
      ],
      "text/latex": [
       "A data.frame: 4 × 2\n",
       "\\begin{tabular}{r|ll}\n",
       "  & Geschlecht & Schulter\\_Hoehe\\\\\n",
       "  & <chr> & <dbl>\\\\\n",
       "\\hline\n",
       "\t1 & m & 1.50\\\\\n",
       "\t3 & m & 1.45\\\\\n",
       "\t4 & w & 1.30\\\\\n",
       "\t5 & w & 1.35\\\\\n",
       "\\end{tabular}\n"
      ],
      "text/markdown": [
       "\n",
       "A data.frame: 4 × 2\n",
       "\n",
       "| <!--/--> | Geschlecht &lt;chr&gt; | Schulter_Hoehe &lt;dbl&gt; |\n",
       "|---|---|---|\n",
       "| 1 | m | 1.50 |\n",
       "| 3 | m | 1.45 |\n",
       "| 4 | w | 1.30 |\n",
       "| 5 | w | 1.35 |\n",
       "\n"
      ],
      "text/plain": [
       "  Geschlecht Schulter_Hoehe\n",
       "1 m          1.50          \n",
       "3 m          1.45          \n",
       "4 w          1.30          \n",
       "5 w          1.35          "
      ]
     },
     "metadata": {},
     "output_type": "display_data"
    }
   ],
   "source": [
    "first4<-eisbaeren[1:4,]\n",
    "\n",
    "first4"
   ]
  },
  {
   "cell_type": "markdown",
   "id": "ff32ad91",
   "metadata": {},
   "source": [
    "<hr>\n",
    "\n",
    "### 1.5)\n",
    "**Remove the first row.**"
   ]
  },
  {
   "cell_type": "code",
   "execution_count": 43,
   "id": "980927f4",
   "metadata": {},
   "outputs": [
    {
     "data": {
      "text/html": [
       "<table class=\"dataframe\">\n",
       "<caption>A data.frame: 9 × 2</caption>\n",
       "<thead>\n",
       "\t<tr><th></th><th scope=col>Geschlecht</th><th scope=col>Schulter_Hoehe</th></tr>\n",
       "\t<tr><th></th><th scope=col>&lt;chr&gt;</th><th scope=col>&lt;dbl&gt;</th></tr>\n",
       "</thead>\n",
       "<tbody>\n",
       "\t<tr><th scope=row>3</th><td>m</td><td>1.45</td></tr>\n",
       "\t<tr><th scope=row>4</th><td>w</td><td>1.30</td></tr>\n",
       "\t<tr><th scope=row>5</th><td>w</td><td>1.35</td></tr>\n",
       "\t<tr><th scope=row>6</th><td>m</td><td>1.40</td></tr>\n",
       "\t<tr><th scope=row>7</th><td>m</td><td>1.60</td></tr>\n",
       "\t<tr><th scope=row>8</th><td>w</td><td>1.25</td></tr>\n",
       "\t<tr><th scope=row>9</th><td>w</td><td>1.40</td></tr>\n",
       "\t<tr><th scope=row>11</th><td>w</td><td>1.30</td></tr>\n",
       "\t<tr><th scope=row>12</th><td>w</td><td>1.35</td></tr>\n",
       "</tbody>\n",
       "</table>\n"
      ],
      "text/latex": [
       "A data.frame: 9 × 2\n",
       "\\begin{tabular}{r|ll}\n",
       "  & Geschlecht & Schulter\\_Hoehe\\\\\n",
       "  & <chr> & <dbl>\\\\\n",
       "\\hline\n",
       "\t3 & m & 1.45\\\\\n",
       "\t4 & w & 1.30\\\\\n",
       "\t5 & w & 1.35\\\\\n",
       "\t6 & m & 1.40\\\\\n",
       "\t7 & m & 1.60\\\\\n",
       "\t8 & w & 1.25\\\\\n",
       "\t9 & w & 1.40\\\\\n",
       "\t11 & w & 1.30\\\\\n",
       "\t12 & w & 1.35\\\\\n",
       "\\end{tabular}\n"
      ],
      "text/markdown": [
       "\n",
       "A data.frame: 9 × 2\n",
       "\n",
       "| <!--/--> | Geschlecht &lt;chr&gt; | Schulter_Hoehe &lt;dbl&gt; |\n",
       "|---|---|---|\n",
       "| 3 | m | 1.45 |\n",
       "| 4 | w | 1.30 |\n",
       "| 5 | w | 1.35 |\n",
       "| 6 | m | 1.40 |\n",
       "| 7 | m | 1.60 |\n",
       "| 8 | w | 1.25 |\n",
       "| 9 | w | 1.40 |\n",
       "| 11 | w | 1.30 |\n",
       "| 12 | w | 1.35 |\n",
       "\n"
      ],
      "text/plain": [
       "   Geschlecht Schulter_Hoehe\n",
       "3  m          1.45          \n",
       "4  w          1.30          \n",
       "5  w          1.35          \n",
       "6  m          1.40          \n",
       "7  m          1.60          \n",
       "8  w          1.25          \n",
       "9  w          1.40          \n",
       "11 w          1.30          \n",
       "12 w          1.35          "
      ]
     },
     "metadata": {},
     "output_type": "display_data"
    }
   ],
   "source": [
    "eisbaeren_without_first<-eisbaeren[-1,]\n",
    "\n",
    "eisbaeren_without_first"
   ]
  },
  {
   "cell_type": "markdown",
   "id": "d127f3b5",
   "metadata": {},
   "source": [
    "<hr>\n",
    "\n",
    "### 2.1)\n",
    "**Amend the following plot command in a way that males and females get differently shaped symbols using the \"pch\"-argument. Remember the mycol structure.**"
   ]
  },
  {
   "cell_type": "code",
   "execution_count": 50,
   "id": "eaca0359",
   "metadata": {},
   "outputs": [
    {
     "data": {
      "image/png": "[encoded data removed]",
      "text/plain": [
       "plot without title"
      ]
     },
     "metadata": {
      "image/png": {
       "height": 420,
       "width": 420
      }
     },
     "output_type": "display_data"
    }
   ],
   "source": [
    "people = people<-read.table(\"day_01/people2019.txt\",\n",
    "                            sep=\"\",\n",
    "                            header=TRUE,\n",
    "                            dec=\".\",\n",
    "                            na.strings=\"NA\")\n",
    "\n",
    "mycol<-c(\"blue\",\"brown\",\"green\")\n",
    "\n",
    "plot(people$shoesize,\n",
    "     people$height,\n",
    "     col=mycol[as.factor(people$eye.color)])"
   ]
  },
  {
   "cell_type": "markdown",
   "id": "ed8d855c",
   "metadata": {},
   "source": [
    "**&rarr;**"
   ]
  },
  {
   "cell_type": "code",
   "execution_count": 68,
   "id": "19e024d0",
   "metadata": {},
   "outputs": [
    {
     "data": {
      "image/png": "[encoded data removed]",
      "text/plain": [
       "plot without title"
      ]
     },
     "metadata": {
      "image/png": {
       "height": 420,
       "width": 420
      }
     },
     "output_type": "display_data"
    }
   ],
   "source": [
    "mypch <- c(16, 17)\n",
    "plot(people$shoesize,people$height,\n",
    "     col=mycol[as.factor(people$eye.color)],\n",
    "     pch=mypch[as.factor(people$sex)],\n",
    "     xlab='Schuhgröße',\n",
    "     ylab='Körpergröße (m)',)"
   ]
  },
  {
   "cell_type": "markdown",
   "id": "2befb9a7",
   "metadata": {},
   "source": [
    "<hr>\n",
    "\n",
    "### 3.1)\n",
    "**Find a way to load the file \"to__load1.txt\" into R so that you have four columns, (1) the names, (2) the ages, (3) the sizes and (4) the shoesizes.\n",
    "Modify the \"read.table\" command accordingly.**"
   ]
  },
  {
   "cell_type": "code",
   "execution_count": 63,
   "id": "ffcfcea3",
   "metadata": {},
   "outputs": [],
   "source": [
    "to_load <- read.table(\"day_01/to_load1.txt\",\n",
    "                       header=T,\n",
    "                       sep=\".\",\n",
    "                       dec=\",\")"
   ]
  },
  {
   "cell_type": "markdown",
   "id": "87e73811",
   "metadata": {},
   "source": [
    "<hr>\n",
    "\n",
    "### 3.2)\n",
    "**Plot the data, incorporate age, size and shoe size into one plot by using the cex-argument to scale the dots according to shoe size**"
   ]
  },
  {
   "cell_type": "code",
   "execution_count": 67,
   "id": "4a0d23df",
   "metadata": {},
   "outputs": [
    {
     "data": {
      "image/png": "[encoded data removed]",
      "text/plain": [
       "plot without title"
      ]
     },
     "metadata": {
      "image/png": {
       "height": 420,
       "width": 420
      }
     },
     "output_type": "display_data"
    }
   ],
   "source": [
    "plot(to_load$alter,\n",
    "     to_load$groesse,\n",
    "     xlab='Alter (a)',\n",
    "     ylab='Grösse (m)',\n",
    "     cex=to_load$shoe/10)"
   ]
  },
  {
   "cell_type": "markdown",
   "id": "47a20c55",
   "metadata": {},
   "source": [
    "<hr>\n",
    "&copy; 2023 |  <a href=\"https://www.fu-berlin.de/en/index.html\">Freie Universität Berlin</a> | <a href=\"https://www.bcp.fu-berlin.de/en/biologie/index.html\">Institut für Biologie</a>\n",
    "<a rel=\"license\" href=\"https://creativecommons.org/licenses/by-nc/4.0/\" target=\"_blank\"><img style=\"float: right\" alt=\"Creative Commons Lizenzvertrag\" style=\"border-width:0\" src=\"https://i.creativecommons.org/l/by-nc/4.0/88x31.png\" target=\"_blank\"></a>"
   ]
  },
  {
   "cell_type": "code",
   "execution_count": null,
   "id": "ee63305c",
   "metadata": {},
   "outputs": [],
   "source": []
  }
 ],
 "metadata": {
  "kernelspec": {
   "display_name": "R",
   "language": "R",
   "name": "ir"
  },
  "language_info": {
   "codemirror_mode": "r",
   "file_extension": ".r",
   "mimetype": "text/x-r-source",
   "name": "R",
   "pygments_lexer": "r",
   "version": "4.2.2"
  }
 },
 "nbformat": 4,
 "nbformat_minor": 5
}
