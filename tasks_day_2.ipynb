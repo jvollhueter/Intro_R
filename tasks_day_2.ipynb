{
 "cells": [
  {
   "cell_type": "markdown",
   "id": "50054875",
   "metadata": {},
   "source": [
    "<img src='./IMG/logo_FU.png' align='right' width='25%'></img>"
   ]
  },
  {
   "cell_type": "markdown",
   "id": "44d7a24a",
   "metadata": {},
   "source": [
    "# Introduction into R: Sample solutions"
   ]
  },
  {
   "cell_type": "markdown",
   "id": "753d11e6",
   "metadata": {},
   "source": [
    "<hr>\n",
    "\n",
    "## Day 2\n",
    "\n",
    "<hr>"
   ]
  },
  {
   "cell_type": "markdown",
   "id": "2dece73f",
   "metadata": {},
   "source": [
    "<hr>\n",
    "\n",
    "### 1.1)\n",
    "**Find a good setting to plot this function, make it look nice:**\n",
    "\n",
    "    x <- seq(-10, 10, length = 1001)\n",
    "    y <- sin(x)"
   ]
  },
  {
   "cell_type": "code",
   "execution_count": 4,
   "id": "495f6eab",
   "metadata": {},
   "outputs": [
    {
     "data": {
      "image/png": "[encoded data removed]",
      "text/plain": [
       "plot without title"
      ]
     },
     "metadata": {
      "image/png": {
       "height": 420,
       "width": 420
      }
     },
     "output_type": "display_data"
    }
   ],
   "source": [
    "x <- seq(-10, 10, length = 1001)\n",
    "y <- sin(x)\n",
    "plot(x, y)"
   ]
  },
  {
   "cell_type": "code",
   "execution_count": 13,
   "id": "ef517be1",
   "metadata": {},
   "outputs": [
    {
     "data": {
      "image/png": "[encoded data removed]",
      "text/plain": [
       "plot without title"
      ]
     },
     "metadata": {
      "image/png": {
       "height": 420,
       "width": 420
      }
     },
     "output_type": "display_data"
    }
   ],
   "source": [
    "plot.new()\n",
    "plot.window(xlim=c(-2*pi+0.4, 2*pi-0.4), ylim = c(-2, 2), xlab='x')\n",
    "lines(x,y)\n",
    "axis(1, pos = 0, at = c(-2*pi, -pi, pi, pi*2),labels=c(\"-2pi\",\"-pi\",\"pi\",\"2pi\"))\n",
    "axis(2, pos = 0, at = c(-2, -1, 1, 2),las = 1,)\n",
    "title(xlab = \"A sinus function\")"
   ]
  },
  {
   "cell_type": "markdown",
   "id": "7a54ccba",
   "metadata": {},
   "source": [
    "<hr>\n",
    "\n",
    "### 1.2)\n",
    "**Extract the current system time of this machine using \"Sys.time()\":**"
   ]
  },
  {
   "cell_type": "code",
   "execution_count": 18,
   "id": "17dcd7b8",
   "metadata": {},
   "outputs": [
    {
     "data": {
      "text/plain": [
       "[1] \"2023-01-31 16:32:13 CET\""
      ]
     },
     "metadata": {},
     "output_type": "display_data"
    }
   ],
   "source": [
    "Sys.time()"
   ]
  },
  {
   "cell_type": "markdown",
   "id": "52837883",
   "metadata": {},
   "source": [
    "**Extract the hours, test whether it is before noon or after noon and create the proper output:**"
   ]
  },
  {
   "cell_type": "code",
   "execution_count": 25,
   "id": "37330849",
   "metadata": {
    "scrolled": true
   },
   "outputs": [
    {
     "name": "stdout",
     "output_type": "stream",
     "text": [
      "[1] \"Time is 17 : XX\"\n"
     ]
    }
   ],
   "source": [
    "hours <- as.integer(substr(Sys.time(), 12, 13))\n",
    "\n",
    "print(paste(\"Time is\", hours, \": XX\"))"
   ]
  },
  {
   "cell_type": "code",
   "execution_count": 26,
   "id": "931d7beb",
   "metadata": {
    "scrolled": true
   },
   "outputs": [
    {
     "name": "stdout",
     "output_type": "stream",
     "text": [
      "[1] \"it is afternoon\"\n"
     ]
    }
   ],
   "source": [
    "if(hour <12){\n",
    "    print (\"it is before noon\")\n",
    "} else if (hour>12){\n",
    "    print (\"it is afternoon\")\n",
    "} else{ \n",
    "    print(\"Exactely noon\")\n",
    "}"
   ]
  },
  {
   "cell_type": "markdown",
   "id": "5684a08a",
   "metadata": {},
   "source": [
    "**Extract the month and output how many months until Christmas**"
   ]
  },
  {
   "cell_type": "code",
   "execution_count": 29,
   "id": "2469a30b",
   "metadata": {},
   "outputs": [
    {
     "data": {
      "text/html": [
       "'11 months until christmas.'"
      ],
      "text/latex": [
       "'11 months until christmas.'"
      ],
      "text/markdown": [
       "'11 months until christmas.'"
      ],
      "text/plain": [
       "[1] \"11 months until christmas.\""
      ]
     },
     "metadata": {},
     "output_type": "display_data"
    }
   ],
   "source": [
    "month <- as.integer(substr(Sys.time(), 6, 7))\n",
    "\n",
    "paste(12-month,\"months until christmas.\")"
   ]
  },
  {
   "cell_type": "markdown",
   "id": "de03efc8",
   "metadata": {},
   "source": [
    "<hr>\n",
    "\n",
    "### 1.3)\n",
    "**Create a for loop that, given a numeric vector (seq = 1:15), print out one number per line, with its square and cube alongside.**"
   ]
  },
  {
   "cell_type": "code",
   "execution_count": 34,
   "id": "d814e86c",
   "metadata": {},
   "outputs": [
    {
     "name": "stdout",
     "output_type": "stream",
     "text": [
      "[1] 1 1 1\n",
      "[1] 2 4 8\n",
      "[1]  3  9 27\n",
      "[1]  4 16 64\n",
      "[1]   5  25 125\n",
      "[1]   6  36 216\n",
      "[1]   7  49 343\n",
      "[1]   8  64 512\n",
      "[1]   9  81 729\n",
      "[1]   10  100 1000\n",
      "[1]   11  121 1331\n",
      "[1]   12  144 1728\n",
      "[1]   13  169 2197\n",
      "[1]   14  196 2744\n",
      "[1]   15  225 3375\n"
     ]
    }
   ],
   "source": [
    "for(i in 1:15){\n",
    "    print(c(i, i^2, i^3))\n",
    "}"
   ]
  },
  {
   "cell_type": "markdown",
   "id": "1869556a",
   "metadata": {},
   "source": [
    "**Create a for loop that converts degree Celsius records (-3, 6, 2, 5, 9) into degree Fahrenheit.**\n",
    "\n",
    "**The conversion is value in degree C*(9/5)+32**"
   ]
  },
  {
   "cell_type": "code",
   "execution_count": 35,
   "id": "db073456",
   "metadata": {},
   "outputs": [
    {
     "name": "stdout",
     "output_type": "stream",
     "text": [
      "[1] -3.0 26.6\n",
      "[1]  6.0 42.8\n",
      "[1]  2.0 35.6\n",
      "[1]  5 41\n",
      "[1]  9.0 48.2\n"
     ]
    }
   ],
   "source": [
    "#Celcus to Fahrenheit\n",
    "for(DegC in c(-3,6,2,5,9)) {\n",
    "    DegF<-DegC*(9/5)+32\n",
    "    print(c(DegC,DegF))\n",
    "}"
   ]
  },
  {
   "cell_type": "code",
   "execution_count": null,
   "id": "f136c3ef",
   "metadata": {},
   "outputs": [],
   "source": [
    "<hr>\n",
    "&copy; 2023 Freie Universität Berlin | Institut für Biologie\n",
    "<a rel=\"license\" href=\"https://creativecommons.org/licenses/by-nc/4.0/\"><img style=\"float: right\" alt=\"Creative Commons Lizenzvertrag\" style=\"border-width:0\" src=\"https://i.creativecommons.org/l/by-nc/4.0/88x31.png\" /></a>"
   ]
  },
  {
   "cell_type": "code",
   "execution_count": null,
   "id": "7bc6e849",
   "metadata": {},
   "outputs": [],
   "source": []
  }
 ],
 "metadata": {
  "kernelspec": {
   "display_name": "R",
   "language": "R",
   "name": "ir"
  },
  "language_info": {
   "codemirror_mode": "r",
   "file_extension": ".r",
   "mimetype": "text/x-r-source",
   "name": "R",
   "pygments_lexer": "r",
   "version": "4.2.2"
  }
 },
 "nbformat": 4,
 "nbformat_minor": 5
}
